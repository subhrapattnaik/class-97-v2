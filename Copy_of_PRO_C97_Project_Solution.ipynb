{
  "nbformat": 4,
  "nbformat_minor": 0,
  "metadata": {
    "colab": {
      "provenance": [],
      "include_colab_link": true
    },
    "kernelspec": {
      "name": "python3",
      "display_name": "Python 3"
    },
    "language_info": {
      "name": "python"
    }
  },
  "cells": [
    {
      "cell_type": "markdown",
      "metadata": {
        "id": "view-in-github",
        "colab_type": "text"
      },
      "source": [
        "<a href=\"https://colab.research.google.com/github/subhrapattnaik/class-97-v2/blob/main/Copy_of_PRO_C97_Project_Solution.ipynb\" target=\"_parent\"><img src=\"https://colab.research.google.com/assets/colab-badge.svg\" alt=\"Open In Colab\"/></a>"
      ]
    },
    {
      "cell_type": "markdown",
      "metadata": {
        "id": "oQ7P9gbPMr4t"
      },
      "source": [
        "# Guess the Result"
      ]
    },
    {
      "cell_type": "code",
      "metadata": {
        "id": "MJwMkeOIawEt"
      },
      "source": [
        "def Guess(num_1, num_2, choice):   \n",
        "  result = 0\n",
        "  if choice == '1':\n",
        "      result = num_1 + num_2\n",
        "      print(\"What is\",num_1, \"+\", num_2, \"?\")\n",
        "      ans = int(input(\">> \"))\n",
        "      if(result==ans):\n",
        "       print(\"Good Job! The answer is correct\")\n",
        "\n",
        "  elif choice == '2':\n",
        "      result = num_1 - num_2\n",
        "      print(\"What is\",num_1, \"-\", num_2, \"?\")\n",
        "      ans = int(input(\">> \"))\n",
        "      if(result==ans):\n",
        "       print(\"Good Job! The answer is correct\")\n",
        "\n",
        "  elif choice == '3':\n",
        "      result = num_1 * num_2\n",
        "      print(\"What is\",num_1, \"X\", num_2, \"?\")\n",
        "      ans = int(input(\">> \"))\n",
        "      if(result==ans):\n",
        "       print(\"Good Job! The answer is correct\")\n",
        "\n",
        "  elif choice == '4':\n",
        "      result = num_1 / num_2\n",
        "      print(\"What is\",num_1, \"/\", num_2, \"?\")\n",
        "      ans = int(input(\">> \"))\n",
        "      if(result==ans):\n",
        "       print(\"Good Job! The answer is correct\")\n",
        "\n",
        "  elif choice == '5':\n",
        "      result = num_1 % num_2\n",
        "      print(\"What is\",num_1, \"%\", num_2, \"?\")\n",
        "      ans = int(input(\">> \"))\n",
        "      if(result==ans):\n",
        "       print(\"Good Job! The answer is correct\")\n",
        "  else: \n",
        "    print(\"Oops! The answer is not correct :(\")\n",
        "    print(\"The correct answer is : \",result)"
      ],
      "execution_count": null,
      "outputs": []
    },
    {
      "cell_type": "code",
      "metadata": {
        "colab": {
          "base_uri": "https://localhost:8080/"
        },
        "id": "IeLNi6keMrVe",
        "outputId": "8e712c6a-839d-401f-d13e-d5f034e23c6a"
      },
      "source": [
        "import random\n",
        "\n",
        "print(\"Choose operation from below: \")\n",
        "print(\"1. Add\")\n",
        "print(\"2. Subtract\")\n",
        "print(\"3. Multiply\")\n",
        "print(\"4. Divide\")\n",
        "print(\"5. Modulus\")\n",
        "\n",
        "\n",
        "# Take input from the user\n",
        "choice = input(\"Enter option number(1/2/3/4/5): \")\n",
        "choices = ('1', '2', '3', '4', '5')\n",
        "\n",
        "if choice in choices:\n",
        "\n",
        "    num_1 = random.randint(0,9)\n",
        "    num_2 = random.randint(0,9)\n",
        "\n",
        "    Guess(num_1, num_2, choice)\n",
        "    \n",
        "else:\n",
        "    print(\"Invalid Input\")  "
      ],
      "execution_count": null,
      "outputs": [
        {
          "output_type": "stream",
          "text": [
            "Choose operation from below: \n",
            "1. Add\n",
            "2. Subtract\n",
            "3. Multiply\n",
            "4. Divide\n",
            "5. Modulus\n",
            "Enter option number(1/2/3/4/5): 3\n",
            "What is 3 X 9 ?\n",
            ">> 27\n",
            "Good Job! The answer is correct\n"
          ],
          "name": "stdout"
        }
      ]
    }
  ]
}